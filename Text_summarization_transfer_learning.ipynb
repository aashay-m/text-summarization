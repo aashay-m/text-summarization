{
  "nbformat": 4,
  "nbformat_minor": 0,
  "metadata": {
    "kernelspec": {
      "display_name": "Python 3",
      "language": "python",
      "name": "python3"
    },
    "language_info": {
      "codemirror_mode": {
        "name": "ipython",
        "version": 3
      },
      "file_extension": ".py",
      "mimetype": "text/x-python",
      "name": "python",
      "nbconvert_exporter": "python",
      "pygments_lexer": "ipython3",
      "version": "3.7.7"
    },
    "colab": {
      "name": "Text_summarization.ipynb",
      "provenance": [],
      "collapsed_sections": [],
      "machine_shape": "hm"
    },
    "accelerator": "GPU",
    "widgets": {
      "application/vnd.jupyter.widget-state+json": {
        "994360f7e8e747818afc6e74854a7534": {
          "model_module": "@jupyter-widgets/controls",
          "model_name": "HBoxModel",
          "state": {
            "_view_name": "HBoxView",
            "_dom_classes": [],
            "_model_name": "HBoxModel",
            "_view_module": "@jupyter-widgets/controls",
            "_model_module_version": "1.5.0",
            "_view_count": null,
            "_view_module_version": "1.5.0",
            "box_style": "",
            "layout": "IPY_MODEL_063ed12a3bc9473ca479ae23dea5f0c4",
            "_model_module": "@jupyter-widgets/controls",
            "children": [
              "IPY_MODEL_45eff2cde4304c2a96c644f693ac2260",
              "IPY_MODEL_cad0e259584b4835a5163d9e968a93f3"
            ]
          }
        },
        "063ed12a3bc9473ca479ae23dea5f0c4": {
          "model_module": "@jupyter-widgets/base",
          "model_name": "LayoutModel",
          "state": {
            "_view_name": "LayoutView",
            "grid_template_rows": null,
            "right": null,
            "justify_content": null,
            "_view_module": "@jupyter-widgets/base",
            "overflow": null,
            "_model_module_version": "1.2.0",
            "_view_count": null,
            "flex_flow": null,
            "width": null,
            "min_width": null,
            "border": null,
            "align_items": null,
            "bottom": null,
            "_model_module": "@jupyter-widgets/base",
            "top": null,
            "grid_column": null,
            "overflow_y": null,
            "overflow_x": null,
            "grid_auto_flow": null,
            "grid_area": null,
            "grid_template_columns": null,
            "flex": null,
            "_model_name": "LayoutModel",
            "justify_items": null,
            "grid_row": null,
            "max_height": null,
            "align_content": null,
            "visibility": null,
            "align_self": null,
            "height": null,
            "min_height": null,
            "padding": null,
            "grid_auto_rows": null,
            "grid_gap": null,
            "max_width": null,
            "order": null,
            "_view_module_version": "1.2.0",
            "grid_template_areas": null,
            "object_position": null,
            "object_fit": null,
            "grid_auto_columns": null,
            "margin": null,
            "display": null,
            "left": null
          }
        },
        "45eff2cde4304c2a96c644f693ac2260": {
          "model_module": "@jupyter-widgets/controls",
          "model_name": "IntProgressModel",
          "state": {
            "_view_name": "ProgressView",
            "style": "IPY_MODEL_e9d3c3eda83c42ad9f111c293195cb67",
            "_dom_classes": [],
            "description": "Downloading: 100%",
            "_model_name": "IntProgressModel",
            "bar_style": "success",
            "max": 1197,
            "_view_module": "@jupyter-widgets/controls",
            "_model_module_version": "1.5.0",
            "value": 1197,
            "_view_count": null,
            "_view_module_version": "1.5.0",
            "orientation": "horizontal",
            "min": 0,
            "description_tooltip": null,
            "_model_module": "@jupyter-widgets/controls",
            "layout": "IPY_MODEL_4d6a5e778cc8457d9b01106aa3939671"
          }
        },
        "cad0e259584b4835a5163d9e968a93f3": {
          "model_module": "@jupyter-widgets/controls",
          "model_name": "HTMLModel",
          "state": {
            "_view_name": "HTMLView",
            "style": "IPY_MODEL_736cd478bc494deba6b3587c372cfbc8",
            "_dom_classes": [],
            "description": "",
            "_model_name": "HTMLModel",
            "placeholder": "​",
            "_view_module": "@jupyter-widgets/controls",
            "_model_module_version": "1.5.0",
            "value": " 1.20k/1.20k [00:00&lt;00:00, 3.06kB/s]",
            "_view_count": null,
            "_view_module_version": "1.5.0",
            "description_tooltip": null,
            "_model_module": "@jupyter-widgets/controls",
            "layout": "IPY_MODEL_1692298a981e4f1d890f369e0710a8a2"
          }
        },
        "e9d3c3eda83c42ad9f111c293195cb67": {
          "model_module": "@jupyter-widgets/controls",
          "model_name": "ProgressStyleModel",
          "state": {
            "_view_name": "StyleView",
            "_model_name": "ProgressStyleModel",
            "description_width": "initial",
            "_view_module": "@jupyter-widgets/base",
            "_model_module_version": "1.5.0",
            "_view_count": null,
            "_view_module_version": "1.2.0",
            "bar_color": null,
            "_model_module": "@jupyter-widgets/controls"
          }
        },
        "4d6a5e778cc8457d9b01106aa3939671": {
          "model_module": "@jupyter-widgets/base",
          "model_name": "LayoutModel",
          "state": {
            "_view_name": "LayoutView",
            "grid_template_rows": null,
            "right": null,
            "justify_content": null,
            "_view_module": "@jupyter-widgets/base",
            "overflow": null,
            "_model_module_version": "1.2.0",
            "_view_count": null,
            "flex_flow": null,
            "width": null,
            "min_width": null,
            "border": null,
            "align_items": null,
            "bottom": null,
            "_model_module": "@jupyter-widgets/base",
            "top": null,
            "grid_column": null,
            "overflow_y": null,
            "overflow_x": null,
            "grid_auto_flow": null,
            "grid_area": null,
            "grid_template_columns": null,
            "flex": null,
            "_model_name": "LayoutModel",
            "justify_items": null,
            "grid_row": null,
            "max_height": null,
            "align_content": null,
            "visibility": null,
            "align_self": null,
            "height": null,
            "min_height": null,
            "padding": null,
            "grid_auto_rows": null,
            "grid_gap": null,
            "max_width": null,
            "order": null,
            "_view_module_version": "1.2.0",
            "grid_template_areas": null,
            "object_position": null,
            "object_fit": null,
            "grid_auto_columns": null,
            "margin": null,
            "display": null,
            "left": null
          }
        },
        "736cd478bc494deba6b3587c372cfbc8": {
          "model_module": "@jupyter-widgets/controls",
          "model_name": "DescriptionStyleModel",
          "state": {
            "_view_name": "StyleView",
            "_model_name": "DescriptionStyleModel",
            "description_width": "",
            "_view_module": "@jupyter-widgets/base",
            "_model_module_version": "1.5.0",
            "_view_count": null,
            "_view_module_version": "1.2.0",
            "_model_module": "@jupyter-widgets/controls"
          }
        },
        "1692298a981e4f1d890f369e0710a8a2": {
          "model_module": "@jupyter-widgets/base",
          "model_name": "LayoutModel",
          "state": {
            "_view_name": "LayoutView",
            "grid_template_rows": null,
            "right": null,
            "justify_content": null,
            "_view_module": "@jupyter-widgets/base",
            "overflow": null,
            "_model_module_version": "1.2.0",
            "_view_count": null,
            "flex_flow": null,
            "width": null,
            "min_width": null,
            "border": null,
            "align_items": null,
            "bottom": null,
            "_model_module": "@jupyter-widgets/base",
            "top": null,
            "grid_column": null,
            "overflow_y": null,
            "overflow_x": null,
            "grid_auto_flow": null,
            "grid_area": null,
            "grid_template_columns": null,
            "flex": null,
            "_model_name": "LayoutModel",
            "justify_items": null,
            "grid_row": null,
            "max_height": null,
            "align_content": null,
            "visibility": null,
            "align_self": null,
            "height": null,
            "min_height": null,
            "padding": null,
            "grid_auto_rows": null,
            "grid_gap": null,
            "max_width": null,
            "order": null,
            "_view_module_version": "1.2.0",
            "grid_template_areas": null,
            "object_position": null,
            "object_fit": null,
            "grid_auto_columns": null,
            "margin": null,
            "display": null,
            "left": null
          }
        },
        "302a4f45a5e24e4aabb29018c9d3fba5": {
          "model_module": "@jupyter-widgets/controls",
          "model_name": "HBoxModel",
          "state": {
            "_view_name": "HBoxView",
            "_dom_classes": [],
            "_model_name": "HBoxModel",
            "_view_module": "@jupyter-widgets/controls",
            "_model_module_version": "1.5.0",
            "_view_count": null,
            "_view_module_version": "1.5.0",
            "box_style": "",
            "layout": "IPY_MODEL_afbaef3f7d9143f7b99124240ee7109e",
            "_model_module": "@jupyter-widgets/controls",
            "children": [
              "IPY_MODEL_31cfccdeac0249d1acd44b8172a5e8ff",
              "IPY_MODEL_140c9c2e4cea4803a8f417f0d7af54be"
            ]
          }
        },
        "afbaef3f7d9143f7b99124240ee7109e": {
          "model_module": "@jupyter-widgets/base",
          "model_name": "LayoutModel",
          "state": {
            "_view_name": "LayoutView",
            "grid_template_rows": null,
            "right": null,
            "justify_content": null,
            "_view_module": "@jupyter-widgets/base",
            "overflow": null,
            "_model_module_version": "1.2.0",
            "_view_count": null,
            "flex_flow": null,
            "width": null,
            "min_width": null,
            "border": null,
            "align_items": null,
            "bottom": null,
            "_model_module": "@jupyter-widgets/base",
            "top": null,
            "grid_column": null,
            "overflow_y": null,
            "overflow_x": null,
            "grid_auto_flow": null,
            "grid_area": null,
            "grid_template_columns": null,
            "flex": null,
            "_model_name": "LayoutModel",
            "justify_items": null,
            "grid_row": null,
            "max_height": null,
            "align_content": null,
            "visibility": null,
            "align_self": null,
            "height": null,
            "min_height": null,
            "padding": null,
            "grid_auto_rows": null,
            "grid_gap": null,
            "max_width": null,
            "order": null,
            "_view_module_version": "1.2.0",
            "grid_template_areas": null,
            "object_position": null,
            "object_fit": null,
            "grid_auto_columns": null,
            "margin": null,
            "display": null,
            "left": null
          }
        },
        "31cfccdeac0249d1acd44b8172a5e8ff": {
          "model_module": "@jupyter-widgets/controls",
          "model_name": "IntProgressModel",
          "state": {
            "_view_name": "ProgressView",
            "style": "IPY_MODEL_0f7024cf20194c68b6de0dc9b6ddf485",
            "_dom_classes": [],
            "description": "Downloading: 100%",
            "_model_name": "IntProgressModel",
            "bar_style": "success",
            "max": 242136741,
            "_view_module": "@jupyter-widgets/controls",
            "_model_module_version": "1.5.0",
            "value": 242136741,
            "_view_count": null,
            "_view_module_version": "1.5.0",
            "orientation": "horizontal",
            "min": 0,
            "description_tooltip": null,
            "_model_module": "@jupyter-widgets/controls",
            "layout": "IPY_MODEL_0432efa6a52b46088c8f7539748b52f1"
          }
        },
        "140c9c2e4cea4803a8f417f0d7af54be": {
          "model_module": "@jupyter-widgets/controls",
          "model_name": "HTMLModel",
          "state": {
            "_view_name": "HTMLView",
            "style": "IPY_MODEL_538320c541a547988b1e7f237bb2462a",
            "_dom_classes": [],
            "description": "",
            "_model_name": "HTMLModel",
            "placeholder": "​",
            "_view_module": "@jupyter-widgets/controls",
            "_model_module_version": "1.5.0",
            "value": " 242M/242M [00:07&lt;00:00, 34.5MB/s]",
            "_view_count": null,
            "_view_module_version": "1.5.0",
            "description_tooltip": null,
            "_model_module": "@jupyter-widgets/controls",
            "layout": "IPY_MODEL_76dabaffe1c04aa1ac7baecdf17cc68a"
          }
        },
        "0f7024cf20194c68b6de0dc9b6ddf485": {
          "model_module": "@jupyter-widgets/controls",
          "model_name": "ProgressStyleModel",
          "state": {
            "_view_name": "StyleView",
            "_model_name": "ProgressStyleModel",
            "description_width": "initial",
            "_view_module": "@jupyter-widgets/base",
            "_model_module_version": "1.5.0",
            "_view_count": null,
            "_view_module_version": "1.2.0",
            "bar_color": null,
            "_model_module": "@jupyter-widgets/controls"
          }
        },
        "0432efa6a52b46088c8f7539748b52f1": {
          "model_module": "@jupyter-widgets/base",
          "model_name": "LayoutModel",
          "state": {
            "_view_name": "LayoutView",
            "grid_template_rows": null,
            "right": null,
            "justify_content": null,
            "_view_module": "@jupyter-widgets/base",
            "overflow": null,
            "_model_module_version": "1.2.0",
            "_view_count": null,
            "flex_flow": null,
            "width": null,
            "min_width": null,
            "border": null,
            "align_items": null,
            "bottom": null,
            "_model_module": "@jupyter-widgets/base",
            "top": null,
            "grid_column": null,
            "overflow_y": null,
            "overflow_x": null,
            "grid_auto_flow": null,
            "grid_area": null,
            "grid_template_columns": null,
            "flex": null,
            "_model_name": "LayoutModel",
            "justify_items": null,
            "grid_row": null,
            "max_height": null,
            "align_content": null,
            "visibility": null,
            "align_self": null,
            "height": null,
            "min_height": null,
            "padding": null,
            "grid_auto_rows": null,
            "grid_gap": null,
            "max_width": null,
            "order": null,
            "_view_module_version": "1.2.0",
            "grid_template_areas": null,
            "object_position": null,
            "object_fit": null,
            "grid_auto_columns": null,
            "margin": null,
            "display": null,
            "left": null
          }
        },
        "538320c541a547988b1e7f237bb2462a": {
          "model_module": "@jupyter-widgets/controls",
          "model_name": "DescriptionStyleModel",
          "state": {
            "_view_name": "StyleView",
            "_model_name": "DescriptionStyleModel",
            "description_width": "",
            "_view_module": "@jupyter-widgets/base",
            "_model_module_version": "1.5.0",
            "_view_count": null,
            "_view_module_version": "1.2.0",
            "_model_module": "@jupyter-widgets/controls"
          }
        },
        "76dabaffe1c04aa1ac7baecdf17cc68a": {
          "model_module": "@jupyter-widgets/base",
          "model_name": "LayoutModel",
          "state": {
            "_view_name": "LayoutView",
            "grid_template_rows": null,
            "right": null,
            "justify_content": null,
            "_view_module": "@jupyter-widgets/base",
            "overflow": null,
            "_model_module_version": "1.2.0",
            "_view_count": null,
            "flex_flow": null,
            "width": null,
            "min_width": null,
            "border": null,
            "align_items": null,
            "bottom": null,
            "_model_module": "@jupyter-widgets/base",
            "top": null,
            "grid_column": null,
            "overflow_y": null,
            "overflow_x": null,
            "grid_auto_flow": null,
            "grid_area": null,
            "grid_template_columns": null,
            "flex": null,
            "_model_name": "LayoutModel",
            "justify_items": null,
            "grid_row": null,
            "max_height": null,
            "align_content": null,
            "visibility": null,
            "align_self": null,
            "height": null,
            "min_height": null,
            "padding": null,
            "grid_auto_rows": null,
            "grid_gap": null,
            "max_width": null,
            "order": null,
            "_view_module_version": "1.2.0",
            "grid_template_areas": null,
            "object_position": null,
            "object_fit": null,
            "grid_auto_columns": null,
            "margin": null,
            "display": null,
            "left": null
          }
        }
      }
    }
  },
  "cells": [
    {
      "cell_type": "code",
      "metadata": {
        "id": "kQpKFILFtG1P",
        "colab_type": "code",
        "outputId": "75878de8-137b-40bb-8a54-09aa8e6420f4",
        "colab": {
          "base_uri": "https://localhost:8080/",
          "height": 54
        }
      },
      "source": [
        "import re\n",
        "import string \n",
        "import os\n",
        "import math\n",
        "import itertools\n",
        "\n",
        "from tqdm import tqdm\n",
        "from functools import lru_cache\n",
        "\n",
        "import torch\n",
        "import torch.nn as nn\n",
        "import torch.nn.functional as F\n",
        "from torch.nn import TransformerDecoder,TransformerDecoderLayer\n",
        "from torch.nn import TransformerEncoder, TransformerEncoderLayer\n",
        "from torch.nn import Transformer\n",
        "\n",
        "import gensim\n",
        "import gensim.utils as utils\n",
        "import gensim.downloader as api\n",
        "from gensim.models import KeyedVectors\n",
        "\n",
        "import nltk\n",
        "nltk.download('wordnet')\n",
        "from nltk.stem import WordNetLemmatizer\n",
        "cached_lemmatize = lru_cache(maxsize=50000)(WordNetLemmatizer().lemmatize)\n",
        "from gensim.utils import simple_preprocess, to_unicode\n",
        "\n",
        "STOP_WORDS = [\"i\", \"a\", \"about\", \"an\", \"are\", \"as\", \"at\", \"be\", \"by\", \n",
        "                \"for\", \"from\", \"how\", \"in\", \"is\", \"it\", \"of\", \"on\", \"or\", \"that\", \"the\", \n",
        "                \"this\", \"to\", \"was\", \"what\", \"when\", \"where\", \"who\", \"will\", \"with\"]\n",
        "\n",
        "def ExpandContractions(contraction):\n",
        "\n",
        "    contraction = re.sub(r\"won\\'t\", \"will not\", contraction)\n",
        "    contraction = re.sub(r\"can\\'t\", \"can not\", contraction)\n",
        "\n",
        "    contraction = re.sub(r\"n\\'t\", \" not\", contraction)\n",
        "    contraction = re.sub(r\"\\'re\", \" are\", contraction)\n",
        "    contraction = re.sub(r\"\\'s\", \" is\", contraction)\n",
        "    contraction = re.sub(r\"\\'d\", \" would\", contraction)\n",
        "    contraction = re.sub(r\"\\'ll\", \" will\", contraction)\n",
        "    contraction = re.sub(r\"\\'t\", \" not\", contraction)\n",
        "    contraction = re.sub(r\"\\'ve\", \" have\", contraction)\n",
        "    contraction = re.sub(r\"\\'m\", \" am\", contraction)\n",
        "\n",
        "    return contraction\n",
        "\n",
        "def PreProcess(line):\n",
        "    \n",
        "    line = line.translate(str.maketrans(\"\", \"\", string.punctuation))\n",
        "    line = ExpandContractions(line)\n",
        "    line = simple_preprocess(to_unicode(line))\n",
        "    line = [cached_lemmatize(word) for word in line if word not in STOP_WORDS]\n",
        "\n",
        "    line = \" \".join(line)\n",
        "    return line\n",
        "\n",
        "class LineSentenceGenerator(object):\n",
        "\n",
        "    def __init__(self, source, preprocess=None, max_sentence_length=10000, limit=None, preprocess_flag=True):\n",
        "        self.source = source\n",
        "        self.max_sentence_length = max_sentence_length\n",
        "        self.limit = limit\n",
        "        self.input_files = []\n",
        "\n",
        "        if preprocess != None and callable(preprocess) and preprocess_flag:\n",
        "            self.preprocess = preprocess\n",
        "        else:\n",
        "            self.preprocess = lambda line: line.rstrip(\"\\r\\n\")\n",
        "\n",
        "        if isinstance(self.source, list):\n",
        "            print('List of files given as source. Verifying entries and using.')\n",
        "            self.input_files = [filename for filename in self.source if os.path.isfile(filename)]\n",
        "            self.input_files.sort()  # makes sure it happens in filename order\n",
        "\n",
        "        elif os.path.isfile(self.source):\n",
        "            print('Single file given as source, rather than a list of files. Wrapping in list.')\n",
        "            self.input_files = [self.source]  # force code compatibility with list of files\n",
        "\n",
        "        elif os.path.isdir(self.source):\n",
        "            self.source = os.path.join(self.source, '')  # ensures os-specific slash at end of path\n",
        "            print('Directory of files given as source. Reading directory %s', self.source)\n",
        "            self.input_files = os.listdir(self.source)\n",
        "            self.input_files = [self.source + filename for filename in self.input_files]  # make full paths\n",
        "            self.input_files.sort()  # makes sure it happens in filename order\n",
        "        else:  # not a file or a directory, then we can't do anything with it\n",
        "            raise ValueError('Input is neither a file nor a path nor a list')\n",
        "        print('Files read into LineSentenceGenerator: %s' % ('\\n'.join(self.input_files)))\n",
        "\n",
        "        self.token_count = 0\n",
        "\n",
        "    def __iter__(self):\n",
        "        for file_name in self.input_files:\n",
        "            print('Reading file %s', file_name)\n",
        "            with open(file_name, 'rb') as fin:\n",
        "                for line in itertools.islice(fin, self.limit):\n",
        "                    line = self.preprocess(utils.to_unicode(line))\n",
        "                    self.token_count += len(line)\n",
        "                    i = 0\n",
        "                    while i < len(line):\n",
        "                        yield line[i:i + self.max_sentence_length]\n",
        "                        i += self.max_sentence_length\n",
        "\n",
        "    def __len__(self):\n",
        "        if self.token_count > 0:\n",
        "            return self.token_count\n",
        "        else:\n",
        "            return len(self.input_files)\n",
        "\n",
        "    def __bool__(self):\n",
        "        return self.has_data()\n",
        "\n",
        "    def is_empty(self):\n",
        "        return len(self.input_files) == 0\n",
        "\n",
        "    def has_data(self):\n",
        "        return not self.is_empty()\n"
      ],
      "execution_count": 45,
      "outputs": [
        {
          "output_type": "stream",
          "text": [
            "[nltk_data] Downloading package wordnet to /root/nltk_data...\n",
            "[nltk_data]   Package wordnet is already up-to-date!\n"
          ],
          "name": "stdout"
        }
      ]
    },
    {
      "cell_type": "code",
      "metadata": {
        "id": "EnTebWr6A--5",
        "colab_type": "code",
        "outputId": "675eb0a7-f316-4889-ca76-f6999ef516a3",
        "colab": {
          "base_uri": "https://localhost:8080/",
          "height": 35
        }
      },
      "source": [
        "from google.colab import drive\n",
        "drive.mount('/content/drive')"
      ],
      "execution_count": 46,
      "outputs": [
        {
          "output_type": "stream",
          "text": [
            "Drive already mounted at /content/drive; to attempt to forcibly remount, call drive.mount(\"/content/drive\", force_remount=True).\n"
          ],
          "name": "stdout"
        }
      ]
    },
    {
      "cell_type": "code",
      "metadata": {
        "id": "7Bi4WzjyPOu1",
        "colab_type": "code",
        "colab": {
          "base_uri": "https://localhost:8080/",
          "height": 35
        },
        "outputId": "c9fce487-8351-4095-d366-4d6e82c6d9d9"
      },
      "source": [
        ""
      ],
      "execution_count": 52,
      "outputs": [
        {
          "output_type": "execute_result",
          "data": {
            "text/plain": [
              "'/content'"
            ]
          },
          "metadata": {
            "tags": []
          },
          "execution_count": 52
        }
      ]
    },
    {
      "cell_type": "code",
      "metadata": {
        "id": "smIZl-40CApI",
        "colab_type": "code",
        "outputId": "bfee70eb-93ce-4e86-9f69-2070c02173ad",
        "colab": {
          "base_uri": "https://localhost:8080/",
          "height": 109
        }
      },
      "source": [
        "root_path = \"/content/drive/My Drive/Colab Notebooks/CMPE 297-03/\"\n",
        "data_dir = \"data\"\n",
        "data_path = os.path.join(root_path,data_dir)\n",
        "train_1000_path = os.path.join(root_path,data_dir,\"train_1000.json\")\n",
        "full_train_file = os.path.join(root_path,data_dir,\"train.pkl\")\n",
        "dic_path = os.path.join(root_path,data_dir,\"dic.pkl\")\n",
        "test_path = os.path.join(root_path,data_dir,\"test.pkl\")\n",
        "val_path = os.path.join(root_path,data_dir, \"valid.pkl\" )\n",
        "\n",
        "print(train_1000_path,full_train_file,dic_path,test_path,val_path,sep=\"\\n\")"
      ],
      "execution_count": 47,
      "outputs": [
        {
          "output_type": "stream",
          "text": [
            "/content/drive/My Drive/Colab Notebooks/CMPE 297-03/data/train_1000.json\n",
            "/content/drive/My Drive/Colab Notebooks/CMPE 297-03/data/train.pkl\n",
            "/content/drive/My Drive/Colab Notebooks/CMPE 297-03/data/dic.pkl\n",
            "/content/drive/My Drive/Colab Notebooks/CMPE 297-03/data/test.pkl\n",
            "/content/drive/My Drive/Colab Notebooks/CMPE 297-03/data/valid.pkl\n"
          ],
          "name": "stdout"
        }
      ]
    },
    {
      "cell_type": "code",
      "metadata": {
        "id": "ZcvQAT4GOZuq",
        "colab_type": "code",
        "colab": {}
      },
      "source": [
        "# pretrained_embeddings = api.load(\"fasttext-wiki-news-subwords-300\")"
      ],
      "execution_count": 0,
      "outputs": []
    },
    {
      "cell_type": "code",
      "metadata": {
        "id": "5dM1HLEN5wLp",
        "colab_type": "code",
        "colab": {}
      },
      "source": [
        "# !wget https://s3.amazonaws.com/datasets.huggingface.co/summarization/cnn_dm.tgz \n",
        "# !tar -xzvf cnn_dm.tgz"
      ],
      "execution_count": 0,
      "outputs": []
    },
    {
      "cell_type": "code",
      "metadata": {
        "id": "Jd8yaai3NVuz",
        "colab_type": "code",
        "colab": {}
      },
      "source": [
        "cnn_dailymail_path = os.path.join(os.getcwd(), \"cnn_dm/\")\n",
        "\n",
        "X_train_path = os.path.join(cnn_dailymail_path, \"train.source\")\n",
        "y_train_path = os.path.join(cnn_dailymail_path, \"train.target\")\n",
        "X_test_path = os.path.join(cnn_dailymail_path, \"test.source\")\n",
        "y_test_path = os.path.join(cnn_dailymail_path, \"test.target\")\n",
        "X_val_path = os.path.join(cnn_dailymail_path, \"val.source\")\n",
        "y_val_path = os.path.join(cnn_dailymail_path, \"val.target\")\n",
        "\n"
      ],
      "execution_count": 0,
      "outputs": []
    },
    {
      "cell_type": "code",
      "metadata": {
        "id": "r4yq9RBUOZ5T",
        "colab_type": "code",
        "outputId": "b4dc866c-57ec-436b-fcd6-53608bb66ea3",
        "colab": {
          "base_uri": "https://localhost:8080/",
          "height": 368
        }
      },
      "source": [
        "for i, line in enumerate(LineSentenceGenerator(X_train_path, preprocess=None)):\n",
        "  print(line)\n",
        "  if i == 5:\n",
        "    break\n",
        "\n",
        "for i, line in enumerate(LineSentenceGenerator(X_train_path, preprocess=PreProcess)):\n",
        "  print(line)\n",
        "  if i == 5:\n",
        "    break"
      ],
      "execution_count": 54,
      "outputs": [
        {
          "output_type": "stream",
          "text": [
            "Single file given as source, rather than a list of files. Wrapping in list.\n",
            "Files read into LineSentenceGenerator: /content/cnn_dm/train.source\n",
            "Reading file %s /content/cnn_dm/train.source\n",
            "Editor's note: In our Behind the Scenes series, CNN correspondents share their experiences in covering news and analyze the stories behind the events. Here, Soledad O'Brien takes users inside a jail where many of the inmates are mentally ill. An inmate housed on the \"forgotten floor,\" where many mentally ill inmates are housed in Miami before trial. MIAMI, Florida (CNN) -- The ninth floor of the Miami-Dade pretrial detention facility is dubbed the \"forgotten floor.\" Here, inmates with the most severe mental illnesses are incarcerated until they're ready to appear in court. Most often, they face drug charges or charges of assaulting an officer --charges that Judge Steven Leifman says are usually \"avoidable felonies.\" He says the arrests often result from confrontations with police. Mentally ill people often won't do what they're told when police arrive on the scene -- confrontation seems to exacerbate their illness and they become more paranoid, delusional, and less likely to follow directions, according to Leifman. So, they end up on the ninth floor severely mentally disturbed, but not getting any real help because they're in jail. We toured the jail with Leifman. He is well known in Miami as an advocate for justice and the mentally ill. Even though we were not exactly welcomed with open arms by the guards, we were given permission to shoot videotape and tour the floor.  Go inside the 'forgotten floor' » . At first, it's hard to determine where the people are. The prisoners are wearing sleeveless robes. Imagine cutting holes for arms and feet in a heavy wool sleeping bag -- that's kind of what they look like. They're designed to keep the mentally ill patients from injuring themselves. That's also why they have no shoes, laces or mattresses. Leifman says about one-third of all people in Miami-Dade county jails are mentally ill. So, he says, the sheer volume is overwhelming the system, and the result is what we see on the ninth floor. Of course, it is a jail, so it's not supposed to be warm and comforting, but the lights glare, the cells are tiny and it's loud. We see two, sometimes three men -- sometimes in the robes, sometimes naked, lying or sitting in their cells. \"I am the son of the president. You need to get me out of here!\" one man shouts at me. He is absolutely serious, convinced that help is on the way -- if only he could reach the White House. Leifman tells me that these prisoner-patients will often circulate through the system, occasionally stabilizing in a mental hospital, only to return to jail to face their charges. It's brutally unjust, in his mind, and he has become a strong advocate for changing things in Miami. Over a meal later, we talk about how things got this way for mental patients. Leifman says 200 years ago people were considered \"lunatics\" and they were locked up in jails even if they had no charges against them. They were just considered unfit to be in society. Over the years, he says, there was some public outcry, and the mentally ill were moved out of jails and into hospitals. But Leifman says many of these mental hospitals were so horrible they were shut down. Where did the patients go? Nowhere. The streets. They became, in many cases, the homeless, he says. They never got treatment. Leifman says in 1955 there were more than half a million people in state mental hospitals, and today that number has been reduced 90 percent, and 40,000 to 50,000 people are in mental hospitals. The judge says he's working to change this. Starting in 2008, many inmates who would otherwise have been brought to the \"forgotten floor\"  will instead be sent to a new mental health facility -- the first step on a journey toward long-term treatment, not just punishment. Leifman says it's not the complete answer, but it's a start. Leifman says the best part is that it's a win-win solution. The patients win, the families are relieved, and the state saves money by simply not cycling these prisoners through again and again. And, for Leifman, justice is served. E-mail to a friend .\n",
            "LONDON, England (Reuters) -- Harry Potter star Daniel Radcliffe gains access to a reported £20 million ($41.1 million) fortune as he turns 18 on Monday, but he insists the money won't cast a spell on him. Daniel Radcliffe as Harry Potter in \"Harry Potter and the Order of the Phoenix\" To the disappointment of gossip columnists around the world, the young actor says he has no plans to fritter his cash away on fast cars, drink and celebrity parties. \"I don't plan to be one of those people who, as soon as they turn 18, suddenly buy themselves a massive sports car collection or something similar,\" he told an Australian interviewer earlier this month. \"I don't think I'll be particularly extravagant. \"The things I like buying are things that cost about 10 pounds -- books and CDs and DVDs.\" At 18, Radcliffe will be able to gamble in a casino, buy a drink in a pub or see the horror film \"Hostel: Part II,\" currently six places below his number one movie on the UK box office chart. Details of how he'll mark his landmark birthday are under wraps. His agent and publicist had no comment on his plans. \"I'll definitely have some sort of party,\" he said in an interview. \"Hopefully none of you will be reading about it.\" Radcliffe's earnings from the first five Potter films have been held in a trust fund which he has not been able to touch. Despite his growing fame and riches, the actor says he is keeping his feet firmly on the ground. \"People are always looking to say 'kid star goes off the rails,'\" he told reporters last month. \"But I try very hard not to go that way because it would be too easy for them.\" His latest outing as the boy wizard in \"Harry Potter and the Order of the Phoenix\" is breaking records on both sides of the Atlantic and he will reprise the role in the last two films.  Watch I-Reporter give her review of Potter's latest » . There is life beyond Potter, however. The Londoner has filmed a TV movie called \"My Boy Jack,\" about author Rudyard Kipling and his son, due for release later this year. He will also appear in \"December Boys,\" an Australian film about four boys who escape an orphanage. Earlier this year, he made his stage debut playing a tortured teenager in Peter Shaffer's \"Equus.\" Meanwhile, he is braced for even closer media scrutiny now that he's legally an adult: \"I just think I'm going to be more sort of fair game,\" he told Reuters. E-mail to a friend . Copyright 2007 Reuters. All rights reserved.This material may not be published, broadcast, rewritten, or redistributed.\n",
            "MINNEAPOLIS, Minnesota (CNN) -- Drivers who were on the Minneapolis bridge when it collapsed told harrowing tales of survival. \"The whole bridge from one side of the Mississippi to the other just completely gave way, fell all the way down,\" survivor Gary Babineau told CNN. \"I probably had a 30-, 35-foot free fall. And there's cars in the water, there's cars on fire. The whole bridge is down.\" He said his back was injured but he determined he could move around. \"I realized there was a school bus right next to me, and me and a couple of other guys went over and started lifting the kids off the bridge. They were yelling, screaming, bleeding. I think there were some broken bones.\"  Watch a driver describe his narrow escape » . At home when he heard about the disaster, Dr. John Hink, an emergency room physician, jumped into his car and rushed to the scene in 15 minutes. He arrived at the south side of the bridge, stood on the riverbank and saw dozens of people lying dazed on an expansive deck. They were in the middle of the Mississippi River, which was churning fast, and he had no way of getting to them. He went to the north side, where there was easier access to people. Ambulances were also having a hard time driving down to the river to get closer to the scene. Working feverishly, volunteers, EMTs and other officials managed to get 55 people into ambulances in less than two hours. Occasionally, a pickup truck with a medic inside would drive to get an injured person and bring him back up even ground, Hink told CNN. The rescue effort was controlled and organized, he said; the opposite of the lightning-quick collapse. \"I could see the whole bridge as it was going down, as it was falling,\" Babineau said. \"It just gave a rumble real quick, and it all just gave way, and it just fell completely, all the way to the ground. And there was dust everywhere and it was just like everyone has been saying: It was just like out of the movies.\" Babineau said the rear of his pickup truck was dangling over the edge of a broken-off section of the bridge. He said several vehicles slid past him into the water. \"I stayed in my car for one or two seconds. I saw a couple cars fall,\" he said. \"So I stayed in my car until the cars quit falling for a second, then I got out real quick, ran in front of my truck -- because behind my truck was just a hole -- and I helped a woman off of the bridge with me. \"I just wanted off the bridge, and then I ran over to the school bus. I started grabbing kids and handing them down. It was just complete chaos.\" He said most of the children were crying or screaming. He and other rescuers set them on the ground and told them to run to the river bank, but a few needed to be carried because of their injuries.  See rescuers clamber over rubble » . Babineau said he had no rescue training. \"I just knew what I had to do at the moment.\" Melissa Hughes, 32, of Minneapolis, told The Associated Press that she was driving home when the western edge of the bridge collapsed under her. \"You know that free-fall feeling? I felt that twice,\" Hughes said. A pickup landed on top of her car, but she was not hurt. \"I had no idea there was a vehicle on my car,\" she told AP. \"It's really very surreal.\" Babineau told the Minneapolis Star-Tribune: \"On the way down, I thought I was dead. I literally thought I was dead. \"My truck was completely face down, pointed toward the ground, and my truck got ripped in half. It was folded in half, and I can't believe I'm alive.\"  See and hear eyewitness accounts » . Bernie Toivonen told CNN's \"American Morning\" that his vehicle was on a part of the bridge that ended up tilted at a 45-degree angle. \"I knew the deck was going down, there was no question about it, and I thought I was going to die,\" he said. After the bridge settled and his car remained upright, \"I just put in park, turned the key off and said, 'Oh, I'm alive,' \" he said. E-mail to a friend .\n",
            "BAGHDAD, Iraq (CNN) -- Dressed in a Superman shirt, 5-year-old Youssif held his sister's hand Friday, seemingly unaware that millions of people across the world have been touched by his story. Nearby, his parents talked about the new future and hope they have for their boy -- and the potential for recovery from his severe burns. Youssif holds his sister's hand Friday. He's wearing a facial mask often used to help burn victims. It's the best birthday present the Iraqi family could ever have imagined for their boy: Youssif turns 6 next Friday. \"I was so happy I didn't know what to do with myself,\" his mother, Zainab, told CNN, a broad smile across her face. \"I didn't think the reaction would be this big.\" His father said he was on the roof of his house when CNN called him with the news about the outpouring of support for his son. \"We just want to thank everyone who has come forward,\" he said. \"We knew there was kindness out there.\" Like his wife, he couldn't stop smiling. He talked about how he tried in vain to get help for his son in Baghdad, leaving \"no stone unturned\" on a mission to help his boy. There were many trips to the Ministry of Health. He says he even put in a request to Iraq's parliament for help. The family eventually told CNN their story -- that Youssif was grabbed by masked men outside their home on January 15, doused in gasoline and set on fire. Simply by coming forward, his parents put themselves in incredible danger. No one has been arrested or held accountable in Youssif's case.  Watch CNN's Arwa Damon describe 'truly phenomenal' outpouring » . Shortly after Youssif's story aired Wednesday, the Children's Burn Foundation -- a nonprofit organization based in Sherman Oaks, California, that provides support for burn victims locally, nationally and internationally -- agreed to pay for the transportation for Youssif and his family to come to the United States and to set up a fund for donations. You can make a donation at the foundation's site by clicking here. There's a drop-down menu under the \"general donation\" area that is marked \"Youssif's fund.\" The foundation says it will cover all medical costs -- from surgeries for Youssif to housing costs to any social rehabilitation that might be needed for him. Surgeries will be performed by Dr. Peter Grossman, a plastic surgeon with the affiliated Grossman Burn Center who is donating his services for Youssif's cause. Officials are still trying to get the appropriate visas for the family's travels. \"We are prepared to have them come here, set them up in a housing situation, provide support for them and begin treatment,\" said Barbara Friedman, executive director of the Children's Burn Foundation. \"We expect that the treatment will be from between six months to a year with many surgeries.\" She added, \"He will be getting the absolute best care that's available.\" Youssif's parents said they know it's going to be a lengthy and difficult process and that adjusting to their stay in America may not be easy. But none of that matters -- getting help for their boy is first and foremost. \"I will do anything for Youssif,\" his father said, pulling his son closer to him. \"Our child is everything.\" His mother tried to coax Youssif to talk to us on this day. But he didn't want to; his mother says he's shy outside of their home. The biggest obstacle now is getting the visas to leave, and the serious security risks they face every day and hour they remain in Iraq. But this family -- which saw the very worst in humanity on that January day -- has new hope in the world. That is partly due to the tens of thousands of CNN.com users who were so moved by the story and wanted to act. CNN Iraqi staff central to bringing this story together were also overwhelmed with the generosity coming from people outside of their border. In a nation that largely feels abandoned by the rest of the world, it was a refreshing realization. E-mail to a friend . CNN.com senior producer Wayne Drash contributed to this report in Atlanta.\n",
            "WASHINGTON (CNN) -- Doctors removed five small polyps from President Bush's colon on Saturday, and \"none appeared worrisome,\" a White House spokesman said. The polyps were removed and sent to the National Naval Medical Center in Bethesda, Maryland, for routine microscopic examination, spokesman Scott Stanzel said. Results are expected in two to three days. All were small, less than a centimeter [half an inch] in diameter, he said. Bush is in good humor, Stanzel said, and will resume his activities at Camp David. During the procedure Vice President Dick Cheney assumed presidential power. Bush reclaimed presidential power at 9:21 a.m. after about two hours. Doctors used \"monitored anesthesia care,\" Stanzel said, so the president was asleep, but not as deeply unconscious as with a true general anesthetic. He spoke to first lady Laura Bush -- who is in Midland, Texas, celebrating her mother's birthday -- before and after the procedure, Stanzel said. Afterward, the president played with his Scottish terriers, Barney and Miss Beazley, Stanzel said. He planned to have lunch at Camp David and have briefings with National Security Adviser Stephen Hadley and White House Chief of Staff Josh Bolten, and planned to take a bicycle ride Saturday afternoon. Cheney, meanwhile, spent the morning at his home on Maryland's eastern shore, reading and playing with his dogs, Stanzel said. Nothing occurred that required him to take official action as president before Bush reclaimed presidential power. The procedure was supervised by Dr. Richard Tubb, Bush's physician, and conducted by a multidisciplinary team from the National Naval Medical Center in Bethesda, Maryland, the White House said. Bush's last colonoscopy was in June 2002, and no abnormalities were found, White House spokesman Tony Snow said. The president's doctor had recommended a repeat procedure in about five years. A colonoscopy is the most sensitive test for colon cancer, rectal cancer and polyps, small clumps of cells that can become cancerous, according to the Mayo Clinic. Small polyps may be removed during the procedure. Snow said on Friday that Bush had polyps removed during colonoscopies before becoming president. Snow himself is undergoing chemotherapy for cancer that began in his colon and spread to his liver.  Watch Snow talk about Bush's procedure and his own colon cancer » . \"The president wants to encourage everybody to use surveillance,\" Snow said. The American Cancer Society recommends that people without high risk factors or symptoms begin getting screened for signs of colorectal cancer at age 50. E-mail to a friend .\n",
            "(CNN)  -- The National Football League has indefinitely suspended Atlanta Falcons quarterback Michael Vick without pay, officials with the league said Friday. NFL star Michael Vick is set to appear in court Monday. A judge will have the final say on a plea deal. Earlier, Vick admitted to participating in a dogfighting ring as part of a plea agreement with federal prosecutors in Virginia. \"Your admitted conduct was not only illegal, but also cruel and reprehensible. Your team, the NFL, and NFL fans have all been hurt by your actions,\" NFL Commissioner Roger Goodell said in a letter to Vick. Goodell said he would review the status of the suspension after the legal proceedings are over. In papers filed Friday with a federal court in Virginia, Vick also admitted that he and two co-conspirators killed dogs that did not fight well. Falcons owner Arthur Blank said Vick's admissions describe actions that are \"incomprehensible and unacceptable.\" The suspension makes \"a strong statement that conduct which tarnishes the good reputation of the NFL will not be tolerated,\" he said in a statement.  Watch what led to Vick's suspension » . Goodell said the Falcons could \"assert any claims or remedies\" to recover $22 million of Vick's signing bonus from the 10-year, $130 million contract he signed in 2004, according to The Associated Press. Vick said he would plead guilty to one count of \"Conspiracy to Travel in Interstate Commerce in Aid of Unlawful Activities and to Sponsor a Dog in an Animal Fighting Venture\" in a plea agreement filed at U.S. District Court in Richmond, Virginia. The charge is punishable by up to five years in prison, a $250,000 fine, \"full restitution, a special assessment and 3 years of supervised release,\" the plea deal said. Federal prosecutors agreed to ask for the low end of the sentencing guidelines. \"The defendant will plead guilty because the defendant is in fact guilty of the charged offense,\" the plea agreement said. In an additional summary of facts, signed by Vick and filed with the agreement, Vick admitted buying pit bulls and the property used for training and fighting the dogs, but the statement said he did not bet on the fights or receive any of the money won. \"Most of the 'Bad Newz Kennels' operations and gambling monies were provided by Vick,\" the official summary of facts said. Gambling wins were generally split among co-conspirators Tony Taylor, Quanis Phillips and sometimes Purnell Peace, it continued. \"Vick did not gamble by placing side bets on any of the fights. Vick did not receive any of the proceeds from the purses that were won by 'Bad Newz Kennels.' \" Vick also agreed that \"collective efforts\" by him and two others caused the deaths of at least six dogs. Around April, Vick, Peace and Phillips tested some dogs in fighting sessions at Vick's property in Virginia, the statement said. \"Peace, Phillips and Vick agreed to the killing of approximately 6-8 dogs that did not perform well in 'testing' sessions at 1915 Moonlight Road and all of those dogs were killed by various methods, including hanging and drowning. \"Vick agrees and stipulates that these dogs all died as a result of the collective efforts of Peace, Phillips and Vick,\" the summary said. Peace, 35, of Virginia Beach, Virginia; Phillips, 28, of Atlanta, Georgia; and Taylor, 34, of Hampton, Virginia, already have accepted agreements to plead guilty in exchange for reduced sentences. Vick, 27, is scheduled to appear Monday in court, where he is expected to plead guilty before a judge.  See a timeline of the case against Vick » . The judge in the case will have the final say over the plea agreement. The federal case against Vick focused on the interstate conspiracy, but Vick's admission that he was involved in the killing of dogs could lead to local charges, according to CNN legal analyst Jeffrey Toobin. \"It sometimes happens -- not often -- that the state will follow a federal prosecution by charging its own crimes for exactly the same behavior,\" Toobin said Friday. \"The risk for Vick is, if he makes admissions in his federal guilty plea, the state of Virginia could say, 'Hey, look, you admitted violating Virginia state law as well. We're going to introduce that against you and charge you in our court.' \" In the plea deal, Vick agreed to cooperate with investigators and provide all information he may have on any criminal activity and to testify if necessary. Vick also agreed to turn over any documents he has and to submit to polygraph tests. Vick agreed to \"make restitution for the full amount of the costs associated\" with the dogs that are being held by the government. \"Such costs may include, but are not limited to, all costs associated with the care of the dogs involved in that case, including if necessary, the long-term care and/or the humane euthanasia of some or all of those animals.\" Prosecutors, with the support of animal rights activists, have asked for permission to euthanize the dogs. But the dogs could serve as important evidence in the cases against Vick and his admitted co-conspirators. Judge Henry E. Hudson issued an order Thursday telling the U.S. Marshals Service to \"arrest and seize the defendant property, and use discretion and whatever means appropriate to protect and maintain said defendant property.\" Both the judge's order and Vick's filing refer to \"approximately\" 53 pit bull dogs. After Vick's indictment last month, Goodell ordered the quarterback not to report to the Falcons training camp, and the league is reviewing the case. Blank told the NFL Network on Monday he could not speculate on Vick's future as a Falcon, at least not until he had seen \"a statement of facts\" in the case.  E-mail to a friend . CNN's Mike Phelan contributed to this report.\n",
            "Single file given as source, rather than a list of files. Wrapping in list.\n",
            "Files read into LineSentenceGenerator: /content/cnn_dm/train.source\n",
            "Reading file %s /content/cnn_dm/train.source\n",
            "editor note our behind scene series cnn correspondent share their experience covering news and analyze story behind event here soledad obrien take user inside jail many inmate mentally ill inmate housed forgotten floor many mentally ill inmate housed miami before trial miami florida cnn ninth floor miamidade pretrial detention facility dubbed forgotten floor here inmate most severe mental illness incarcerated until theyre ready appear court most often they face drug charge charge assaulting officer charge judge steven leifman say usually avoidable felony he say arrest often result confrontation police mentally ill people often wont do theyre told police arrive scene confrontation seems exacerbate their illness and they become more paranoid delusional and le likely follow direction according leifman so they end up ninth floor severely mentally disturbed but not getting any real help because theyre jail we toured jail leifman he well known miami advocate justice and mentally ill even though we were not exactly welcomed open arm guard we were given permission shoot videotape and tour floor go inside forgotten floor first it hard determine people prisoner wearing sleeveless robe imagine cutting hole arm and foot heavy wool sleeping bag thats kind they look like theyre designed keep mentally ill patient injuring themselves thats also why they have no shoe lace mattress leifman say onethird all people miamidade county jail mentally ill so he say sheer volume overwhelming system and result we see ninth floor course jail so it not supposed warm and comforting but light glare cell tiny and it loud we see two sometimes three men sometimes robe sometimes naked lying sitting their cell am son president you need get me out here one man shout me he absolutely serious convinced help way if only he could reach white house leifman tell me these often circulate through system occasionally stabilizing mental hospital only return jail face their charge it brutally unjust his mind and he ha become strong advocate changing thing miami over meal later we talk thing got way mental patient leifman say year ago people were considered lunatic and they were locked up jail even if they had no charge against them they were just considered unfit society over year he say there some public outcry and mentally ill were moved out jail and into hospital but leifman say many these mental hospital were so horrible they were shut down did patient go nowhere street they became many case homeless he say they never got treatment leifman say there were more than half million people state mental hospital and today number ha been reduced percent and people mental hospital judge say he working change starting many inmate would otherwise have been brought forgotten floor instead sent new mental health facility first step journey toward longterm treatment not just punishment leifman say it not complete answer but it start leifman say best part it winwin solution patient win family relieved and state save money simply not cycling these prisoner through again and again and leifman justice served email friend\n",
            "london england reuters harry potter star daniel radcliffe gain access reported million million fortune he turn monday but he insists money wont cast spell him daniel radcliffe harry potter harry potter and order phoenix disappointment gossip columnist around world young actor say he ha no plan fritter his cash away fast car drink and celebrity party dont plan one those people soon they turn suddenly buy themselves massive sport car collection something similar he told australian interviewer earlier month dont think ill particularly extravagant thing like buying thing cost pound book and cd and dvd radcliffe able gamble casino buy drink pub see horror film hostel part ii currently six place below his number one movie uk box office chart detail hell mark his landmark birthday under wrap his agent and publicist had no comment his plan ill definitely have some sort party he said interview hopefully none you reading radcliffes earnings first five potter film have been held trust fund which he ha not been able touch despite his growing fame and rich actor say he keeping his foot firmly ground people always looking say kid star go off rail he told reporter last month but try very hard not go way because would too easy them his latest outing boy wizard harry potter and order phoenix breaking record both side atlantic and he reprise role last two film watch ireporter give her review potter latest there life beyond potter however londoner ha filmed tv movie called my boy jack author rudyard kipling and his son due release later year he also appear december boy australian film four boy escape orphanage earlier year he made his stage debut playing tortured teenager peter shaffers equus meanwhile he braced even closer medium scrutiny now he legally adult just think im going more sort fair game he told reuters email friend copyright reuters all right reservedthis material may not published broadcast rewritten redistributed\n",
            "minneapolis minnesota cnn driver were minneapolis bridge collapsed told harrowing tale survival whole bridge one side mississippi other just completely gave way fell all way down survivor gary babineau told cnn probably had foot free fall and there car water there car fire whole bridge down he said his back injured but he determined he could move around realized there school bus right next me and me and couple other guy went over and started lifting kid off bridge they were yelling screaming bleeding think there were some broken bone watch driver describe his narrow escape home he heard disaster dr john hink emergency room physician jumped into his car and rushed scene minute he arrived south side bridge stood riverbank and saw dozen people lying dazed expansive deck they were middle mississippi river which churning fast and he had no way getting them he went north side there easier access people ambulance were also having hard time driving down river get closer scene working feverishly volunteer emts and other official managed get people into ambulance le than two hour occasionally pickup truck medic inside would drive get injured person and bring him back up even ground hink told cnn rescue effort controlled and organized he said opposite lightningquick collapse could see whole bridge going down falling babineau said just gave rumble real quick and all just gave way and just fell completely all way ground and there dust everywhere and just like everyone ha been saying just like out movie babineau said rear his pickup truck dangling over edge brokenoff section bridge he said several vehicle slid past him into water stayed my car one two second saw couple car fall he said so stayed my car until car quit falling second then got out real quick ran front my truck because behind my truck just hole and helped woman off bridge me just wanted off bridge and then ran over school bus started grabbing kid and handing them down just complete chaos he said most child were cry screaming he and other rescuer set them ground and told them run river bank but few needed carried because their injury see rescuer clamber over rubble babineau said he had no rescue training just knew had do moment melissa hughes minneapolis told associated press she driving home western edge bridge collapsed under her you know freefall feeling felt twice hughes said pickup landed top her car but she not hurt had no idea there vehicle my car she told ap it really very surreal babineau told minneapolis startribune way down thought dead literally thought dead my truck completely face down pointed toward ground and my truck got ripped half folded half and cant believe im alive see and hear eyewitness account bernie toivonen told cnns american morning his vehicle part bridge ended up tilted degree angle knew deck going down there no question and thought going die he said after bridge settled and his car remained upright just put park turned key off and said oh im alive he said email friend\n",
            "baghdad iraq cnn dressed superman shirt yearold youssif held his sister hand friday seemingly unaware million people across world have been touched his story nearby his parent talked new future and hope they have their boy and potential recovery his severe burn youssif hold his sister hand friday he wearing facial mask often used help burn victim it best birthday present iraqi family could ever have imagined their boy youssif turn next friday so happy didnt know do myself his mother zainab told cnn broad smile across her face didnt think reaction would big his father said he roof his house cnn called him news outpouring support his son we just want thank everyone ha come forward he said we knew there kindness out there like his wife he couldnt stop smiling he talked he tried vain get help his son baghdad leaving no stone unturned mission help his boy there were many trip ministry health he say he even put request iraq parliament help family eventually told cnn their story youssif grabbed masked men outside their home january doused gasoline and set fire simply coming forward his parent put themselves incredible danger no one ha been arrested held accountable youssifs case watch cnns arwa damon describe truly phenomenal outpouring shortly after youssifs story aired wednesday childrens burn foundation nonprofit organization based sherman oak california provides support burn victim locally nationally and internationally agreed pay transportation youssif and his family come united state and set up fund donation you can make donation foundation site clicking here there dropdown menu under general donation area marked youssifs fund foundation say cover all medical cost surgery youssif housing cost any social rehabilitation might needed him surgery performed dr peter grossman plastic surgeon affiliated grossman burn center donating his service youssifs cause official still trying get appropriate visa family travel we prepared have them come here set them up housing situation provide support them and begin treatment said barbara friedman executive director childrens burn foundation we expect treatment between six month year many surgery she added he getting absolute best care thats available youssifs parent said they know it going lengthy and difficult process and adjusting their stay america may not easy but none matter getting help their boy first and foremost do anything youssif his father said pulling his son closer him our child everything his mother tried coax youssif talk u day but he didnt want his mother say he shy outside their home biggest obstacle now getting visa leave and serious security risk they face every day and hour they remain iraq but family which saw very worst humanity january day ha new hope world partly due ten thousand cnncom user were so moved story and wanted act cnn iraqi staff central bringing story together were also overwhelmed generosity coming people outside their border nation largely feel abandoned rest world refreshing realization email friend cnncom senior producer wayne drash contributed report atlanta\n",
            "washington cnn doctor removed five small polyp president bush colon saturday and none appeared worrisome white house spokesman said polyp were removed and sent national naval medical center bethesda maryland routine microscopic examination spokesman scott stanzel said result expected two three day all were small le than centimeter half inch diameter he said bush good humor stanzel said and resume his activity camp david during procedure vice president dick cheney assumed presidential power bush reclaimed presidential power am after two hour doctor used monitored anesthesia care stanzel said so president asleep but not deeply unconscious true general anesthetic he spoke first lady laura bush midland texas celebrating her mother birthday before and after procedure stanzel said afterward president played his scottish terrier barney and miss beazley stanzel said he planned have lunch camp david and have briefing national security adviser stephen hadley and white house chief staff josh bolten and planned take bicycle ride saturday afternoon cheney meanwhile spent morning his home maryland eastern shore reading and playing his dog stanzel said nothing occurred required him take official action president before bush reclaimed presidential power procedure supervised dr richard tubb bush physician and conducted team national naval medical center bethesda maryland white house said bush last colonoscopy june and no abnormality were found white house spokesman tony snow said president doctor had recommended repeat procedure five year colonoscopy most sensitive test colon cancer rectal cancer and polyp small clump cell can become cancerous according mayo clinic small polyp may removed during procedure snow said friday bush had polyp removed during colonoscopy before becoming president snow himself undergoing chemotherapy cancer began his colon and spread his liver watch snow talk bush procedure and his own colon cancer president want encourage everybody use surveillance snow said american cancer society recommends people without high risk factor symptom begin getting screened sign colorectal cancer age email friend\n",
            "cnn national football league ha indefinitely suspended atlanta falcon quarterback michael vick without pay official league said friday nfl star michael vick set appear court monday judge have final say plea deal earlier vick admitted participating dogfighting ring part plea agreement federal prosecutor virginia your admitted conduct not only illegal but also cruel and reprehensible your team nfl and nfl fan have all been hurt your action nfl commissioner roger goodell said letter vick goodell said he would review status suspension after legal proceeding over paper filed friday federal court virginia vick also admitted he and two coconspirator killed dog did not fight well falcon owner arthur blank said vicks admission describe action and unacceptable suspension make strong statement conduct which tarnish good reputation nfl not tolerated he said statement watch led vicks suspension goodell said falcon could assert any claim remedy recover million vicks signing bonus year million contract he signed according associated press vick said he would plead guilty one count conspiracy travel interstate commerce aid unlawful activity and sponsor dog animal fighting venture plea agreement filed u district court richmond virginia charge punishable up five year prison fine full restitution special assessment and year supervised release plea deal said federal prosecutor agreed ask low end sentencing guideline defendant plead guilty because defendant fact guilty charged offense plea agreement said additional summary fact signed vick and filed agreement vick admitted buying pit bull and property used training and fighting dog but statement said he did not bet fight receive any money won most bad newz kennel operation and gambling monies were provided vick official summary fact said gambling win were generally split among coconspirator tony taylor quanis phillips and sometimes purnell peace continued vick did not gamble placing side bet any fight vick did not receive any proceeds purse were won bad newz kennel vick also agreed collective effort him and two others caused death least six dog around april vick peace and phillips tested some dog fighting session vicks property virginia statement said peace phillips and vick agreed killing approximately dog did not perform well testing session moonlight road and all those dog were killed various method including hanging and drowning vick agrees and stipulates these dog all died result collective effort peace phillips and vick summary said peace virginia beach virginia phillips atlanta georgia and taylor hampton virginia already have accepted agreement plead guilty exchange reduced sentence vick scheduled appear monday court he expected plead guilty before judge see timeline case against vick judge case have final say over plea agreement federal case against vick focused interstate conspiracy but vicks admission he involved killing dog could lead local charge according cnn legal analyst jeffrey toobin sometimes happens not often state follow federal prosecution charging it own crime exactly same behavior toobin said friday risk vick if he make admission his federal guilty plea state virginia could say hey look you admitted violating virginia state law well were going introduce against you and charge you our court plea deal vick agreed cooperate investigator and provide all information he may have any criminal activity and testify if necessary vick also agreed turn over any document he ha and submit polygraph test vick agreed make restitution full amount cost associated dog being held government such cost may include but not limited all cost associated care dog involved case including if necessary longterm care andor humane euthanasia some all those animal prosecutor support animal right activist have asked permission euthanize dog but dog could serve important evidence case against vick and his admitted coconspirator judge henry hudson issued order thursday telling u marshal service arrest and seize defendant property and use discretion and whatever mean appropriate protect and maintain said defendant property both judge order and vicks filing refer approximately pit bull dog after vicks indictment last month goodell ordered quarterback not report falcon training camp and league reviewing case blank told nfl network monday he could not speculate vicks future falcon least not until he had seen statement fact case email friend cnns mike phelan contributed report\n"
          ],
          "name": "stdout"
        }
      ]
    },
    {
      "cell_type": "code",
      "metadata": {
        "id": "6Tm4-X8UFeHm",
        "colab_type": "code",
        "colab": {}
      },
      "source": [
        "import pandas as pd\n",
        "train_1000_df = pd.read_json(train_1000_path, orient=str)"
      ],
      "execution_count": 0,
      "outputs": []
    },
    {
      "cell_type": "code",
      "metadata": {
        "id": "gJ_1xkKHFuyG",
        "colab_type": "code",
        "outputId": "2c20805b-abf7-413d-e0ff-8ef88888f4a6",
        "colab": {
          "base_uri": "https://localhost:8080/",
          "height": 597
        }
      },
      "source": [
        "train_1000_df"
      ],
      "execution_count": 0,
      "outputs": [
        {
          "output_type": "execute_result",
          "data": {
            "text/html": [
              "<div>\n",
              "<style scoped>\n",
              "    .dataframe tbody tr th:only-of-type {\n",
              "        vertical-align: middle;\n",
              "    }\n",
              "\n",
              "    .dataframe tbody tr th {\n",
              "        vertical-align: top;\n",
              "    }\n",
              "\n",
              "    .dataframe thead th {\n",
              "        text-align: right;\n",
              "    }\n",
              "</style>\n",
              "<table border=\"1\" class=\"dataframe\">\n",
              "  <thead>\n",
              "    <tr style=\"text-align: right;\">\n",
              "      <th></th>\n",
              "      <th>text-tokens</th>\n",
              "      <th>text</th>\n",
              "      <th>summ-tokens</th>\n",
              "      <th>summ</th>\n",
              "    </tr>\n",
              "  </thead>\n",
              "  <tbody>\n",
              "    <tr>\n",
              "      <th>0</th>\n",
              "      <td>[editor, 's, note, :, in, our, behind, the, sc...</td>\n",
              "      <td>editor 's note : in our behind the scenes seri...</td>\n",
              "      <td>[mentally, ill, inmates, in, miami, are, house...</td>\n",
              "      <td>[ mentally ill inmates in miami are housed on ...</td>\n",
              "    </tr>\n",
              "    <tr>\n",
              "      <th>1</th>\n",
              "      <td>[london, ,, england, -lrb-, reuters, -rrb-, --...</td>\n",
              "      <td>london , england -lrb- reuters -rrb- -- harry ...</td>\n",
              "      <td>[harry, potter, star, daniel, radcliffe, gets,...</td>\n",
              "      <td>[ harry potter star daniel radcliffe gets # 20...</td>\n",
              "    </tr>\n",
              "    <tr>\n",
              "      <th>2</th>\n",
              "      <td>[minneapolis, ,, minnesota, -lrb-, cnn, -rrb-,...</td>\n",
              "      <td>minneapolis , minnesota -lrb- cnn -rrb- -- dri...</td>\n",
              "      <td>[new, :, ``, i, thought, i, was, going, to, di...</td>\n",
              "      <td>[ new : `` i thought i was going to die , '' d...</td>\n",
              "    </tr>\n",
              "    <tr>\n",
              "      <th>3</th>\n",
              "      <td>[baghdad, ,, iraq, -lrb-, cnn, -rrb-, --, dres...</td>\n",
              "      <td>baghdad , iraq -lrb- cnn -rrb- -- dressed in a...</td>\n",
              "      <td>[parents, beam, with, pride, ,, ca, n't, stop,...</td>\n",
              "      <td>[ parents beam with pride , ca n't stop from s...</td>\n",
              "    </tr>\n",
              "    <tr>\n",
              "      <th>4</th>\n",
              "      <td>[washington, -lrb-, cnn, -rrb-, --, doctors, r...</td>\n",
              "      <td>washington -lrb- cnn -rrb- -- doctors removed ...</td>\n",
              "      <td>[five, small, polyps, found, during, procedure...</td>\n",
              "      <td>[ five small polyps found during procedure ; `...</td>\n",
              "    </tr>\n",
              "    <tr>\n",
              "      <th>...</th>\n",
              "      <td>...</td>\n",
              "      <td>...</td>\n",
              "      <td>...</td>\n",
              "      <td>...</td>\n",
              "    </tr>\n",
              "    <tr>\n",
              "      <th>995</th>\n",
              "      <td>[-lrb-, cnn, -rrb-, --, the, united, states, b...</td>\n",
              "      <td>-lrb- cnn -rrb- -- the united states believes ...</td>\n",
              "      <td>[u.s., intelligence, points, to, pakistan, age...</td>\n",
              "      <td>[ u.s. intelligence points to pakistan agents ...</td>\n",
              "    </tr>\n",
              "    <tr>\n",
              "      <th>996</th>\n",
              "      <td>[new, york, -lrb-, cnn, -rrb-, --, when, the, ...</td>\n",
              "      <td>new york -lrb- cnn -rrb- -- when the emperors ...</td>\n",
              "      <td>[new, york, times, :, court, documents, identi...</td>\n",
              "      <td>[ new york times : court documents identify th...</td>\n",
              "    </tr>\n",
              "    <tr>\n",
              "      <th>997</th>\n",
              "      <td>[-lrb-, cnn, -rrb-, --, texas, authorities, ar...</td>\n",
              "      <td>-lrb- cnn -rrb- -- texas authorities are inves...</td>\n",
              "      <td>[new, :, state, child, protective, services, a...</td>\n",
              "      <td>[ new : state child protective services agents...</td>\n",
              "    </tr>\n",
              "    <tr>\n",
              "      <th>998</th>\n",
              "      <td>[kampala, ,, uganda, -lrb-, cnn, -rrb-, --, at...</td>\n",
              "      <td>kampala , uganda -lrb- cnn -rrb- -- at least 1...</td>\n",
              "      <td>[19, schoolgirls, and, two, adults, die, in, p...</td>\n",
              "      <td>[ 19 schoolgirls and two adults die in primary...</td>\n",
              "    </tr>\n",
              "    <tr>\n",
              "      <th>999</th>\n",
              "      <td>[the, mother, of, murdered, schoolboy, damilol...</td>\n",
              "      <td>the mother of murdered schoolboy damilola tayl...</td>\n",
              "      <td>[mother, of, murdered, schoolboy, damilola, ta...</td>\n",
              "      <td>[ mother of murdered schoolboy damilola taylor...</td>\n",
              "    </tr>\n",
              "  </tbody>\n",
              "</table>\n",
              "<p>1000 rows × 4 columns</p>\n",
              "</div>"
            ],
            "text/plain": [
              "                                           text-tokens  ...                                               summ\n",
              "0    [editor, 's, note, :, in, our, behind, the, sc...  ...  [ mentally ill inmates in miami are housed on ...\n",
              "1    [london, ,, england, -lrb-, reuters, -rrb-, --...  ...  [ harry potter star daniel radcliffe gets # 20...\n",
              "2    [minneapolis, ,, minnesota, -lrb-, cnn, -rrb-,...  ...  [ new : `` i thought i was going to die , '' d...\n",
              "3    [baghdad, ,, iraq, -lrb-, cnn, -rrb-, --, dres...  ...  [ parents beam with pride , ca n't stop from s...\n",
              "4    [washington, -lrb-, cnn, -rrb-, --, doctors, r...  ...  [ five small polyps found during procedure ; `...\n",
              "..                                                 ...  ...                                                ...\n",
              "995  [-lrb-, cnn, -rrb-, --, the, united, states, b...  ...  [ u.s. intelligence points to pakistan agents ...\n",
              "996  [new, york, -lrb-, cnn, -rrb-, --, when, the, ...  ...  [ new york times : court documents identify th...\n",
              "997  [-lrb-, cnn, -rrb-, --, texas, authorities, ar...  ...  [ new : state child protective services agents...\n",
              "998  [kampala, ,, uganda, -lrb-, cnn, -rrb-, --, at...  ...  [ 19 schoolgirls and two adults die in primary...\n",
              "999  [the, mother, of, murdered, schoolboy, damilol...  ...  [ mother of murdered schoolboy damilola taylor...\n",
              "\n",
              "[1000 rows x 4 columns]"
            ]
          },
          "metadata": {
            "tags": []
          },
          "execution_count": 5
        }
      ]
    },
    {
      "cell_type": "code",
      "metadata": {
        "id": "b2yZuC7k5wLu",
        "colab_type": "code",
        "colab": {}
      },
      "source": [
        "class BiLSTMEncoder(nn.Module):\n",
        "    def __init__(self, input_dim, emb_dim, enc_hid_dim, dec_hid_dim, dropout=0.5):\n",
        "        \n",
        "        super(BiLSTMEncoder,self).__init__()\n",
        "        \n",
        "        self.input_dim = input_dim\n",
        "        self.emb_dim = emb_dim\n",
        "        self.enc_hid_dim = enc_hid_dim\n",
        "        self.dec_hid_dim = dec_hid_dim\n",
        "        self.dropout = dropout\n",
        "        \n",
        "        self.embedding = nn.Embedding(input_dim,emb_dim)\n",
        "        \n",
        "        self.rnn = nn.LSTM(emb_dim, enc_hid_dim, bidirectional = True)\n",
        "        \n",
        "        self.fc = nn.Linear( enc_hid_dim * 2, dec_hid_dim )\n",
        "        \n",
        "        self.dropout = nn.Dropout( dropout )\n",
        "        \n",
        "    def forward(self, X):\n",
        "        \n",
        "        embedded = self.dropout(self.embedding(X))\n",
        "        \n",
        "        outputs, hidden = self.rnn(embedded)\n",
        "        \n",
        "        hidden = F.tanh( self.fc ( torch.cat( (hidden[-2,:,:], hidden[-1, : , : ] ), dim = 1 ) ) )\n",
        "        \n",
        "        return outputs, hidden\n",
        "\n",
        "\n",
        "        \n",
        "        "
      ],
      "execution_count": 0,
      "outputs": []
    },
    {
      "cell_type": "code",
      "metadata": {
        "id": "jlPsCwda5wL2",
        "colab_type": "code",
        "colab": {}
      },
      "source": [
        "class PositionalEncoding(nn.Module):\n",
        "\n",
        "    def __init__(self,model,dropout=0.1,max_len=5000):\n",
        "        super(PositionalEncoding,self).__init__()\n",
        "        self.dropout = nn.Dropout(p=dropout)\n",
        "\n",
        "        pe = torch.zeros(max_len,model)\n",
        "        position = torch.arange(0,max_len,dtype=torch.float).unsqueeze(1)\n",
        "        div_term = torch.exp(torch.arange(0,model,2).float()*(-math.log(10000.0)/model))\n",
        "        pe[:,0::2] = torch.sin(position*div_term)\n",
        "        pe[:,1::2] = torch.cos(position*div_term)\n",
        "        pe = pe.unsqueeze(0).transpose(0,1)\n",
        "        self.register_buffer('pe',pe)\n",
        "\n",
        "    def forward(self,x):\n",
        "        x = x+self.pe[:x.size(0),:]\n",
        "        return self.dropout(x)"
      ],
      "execution_count": 0,
      "outputs": []
    },
    {
      "cell_type": "code",
      "metadata": {
        "id": "PZNPcIoL5wLy",
        "colab_type": "code",
        "colab": {}
      },
      "source": [
        "class TransformerSummarizer(nn.Module):\n",
        "    \"\"\"\n",
        "    Transformer Encoder with self attention layers.\n",
        "    \"\"\"\n",
        "    def __init__(self, max_seq_len, ntoken, emb_size, nhead, nhid, nlayers, dropout=0.5):\n",
        "        \"\"\"\n",
        "        :param max_seq_len : maximum sequence length\n",
        "        :param ntoken: size of vocab\n",
        "        :param ninp\n",
        "        :param nhead\n",
        "        :param nhid\n",
        "        :param nlayers\n",
        "        :param dropout: 0.5 by default\n",
        "        \"\"\"\n",
        "        super(TransformerSummarizer,self).__init__()\n",
        "        self.model_type = 'Summarizer'\n",
        "        self.src_mask = None\n",
        "        self.pos_encoder = PositionalEncoding(emb_size,dropout)\n",
        "\n",
        "        encoder_layers = TransformerEncoderLayer(emb_size ,nhead ,nhid , dropout)\n",
        "        self.transformer_encoder = TransformerEncoder(encoder_layers,nlayers)\n",
        "        \n",
        "        self.emb_size = emb_size\n",
        "        self.encoder = nn.Embedding(ntoken, emb_size)\n",
        "        \n",
        "        decoder_layers = TransformerDecoderLayer (emb_size, nhead, nhid,dropout) \n",
        "        self.decoder = TransformerDecoder (decoder_layers, nlayers)\n",
        "        \n",
        "        # self.init_weights()\n",
        "\n",
        "\n",
        "    def generate_square_mask(self,sz):\n",
        "        mask = (torch.triu(torch.ones(sz,sz)) == 1).transpose(0,1)\n",
        "        mask = mask.float().masked_fill_(mask == 0,float('-inf')).masked_fill_(mask == 1,float(0.0))\n",
        "        return mask\n",
        "\n",
        "\n",
        "    # def init_weights(self):\n",
        "    #     initrange = 0.1\n",
        "    #     self.encoder.weight.data.uniform_(-initrange,initrange)\n",
        "    #     # self.decoder.bias.data.zero_()\n",
        "    #     self.decoder.weight.data.uniform_(-initrange,initrange)\n",
        "\n",
        "    def forward(self,src,tgt,src_mask=None,tgt_mask=None,\n",
        "                memory_mask=None,src_key_padding_mask=None,\n",
        "                tgt_key_padding_mask=None, memory_key_padding_mask=None):\n",
        "        memory = self.encoder(src, mask=src_mask, src_key_padding_mask=src_key_padding_mask)\n",
        "        output = self.decoder(tgt, memory, tgt_mask=tgt_mask, memory_mask=memory_mask,\n",
        "                              tgt_key_padding_mask=tgt_key_padding_mask,\n",
        "                              memory_key_padding_mask=memory_key_padding_mask)\n",
        "        \n",
        "        return output"
      ],
      "execution_count": 0,
      "outputs": []
    },
    {
      "cell_type": "code",
      "metadata": {
        "id": "cvWFeYZF5wL5",
        "colab_type": "code",
        "colab": {}
      },
      "source": [
        "# import torchtext\n",
        "# from torchtext.data.utils import get_tokenizer\n",
        "# TEXT = torchtext.data.Field(tokenize=get_tokenizer(\"basic_english\"),\n",
        "#                             init_token='<sos>',\n",
        "#                             eos_token='<eos>',\n",
        "#                             lower=True)\n",
        "# train_txt, val_txt, test_txt = \n",
        "# TEXT.build_vocab(train_txt)"
      ],
      "execution_count": 0,
      "outputs": []
    },
    {
      "cell_type": "code",
      "metadata": {
        "id": "6XV33Tm0FcWe",
        "colab_type": "code",
        "outputId": "4a69049e-e3a9-4bf8-ff76-cdc72ad13a82",
        "colab": {
          "base_uri": "https://localhost:8080/",
          "height": 74
        }
      },
      "source": [
        "train_line = train_1000_df[\"text-tokens\"][0]\n",
        "print(train_line)\n",
        "vocab = len(set(train_line))\n",
        "\n",
        "test_line = train_1000_df[\"summ-tokens\"][0]\n",
        "print(test_line)\n",
        "# vocab = len(set(test_line))\n",
        "\n"
      ],
      "execution_count": 0,
      "outputs": [
        {
          "output_type": "stream",
          "text": [
            "['editor', \"'s\", 'note', ':', 'in', 'our', 'behind', 'the', 'scenes', 'series', ',', 'cnn', 'correspondents', 'share', 'their', 'experiences', 'in', 'covering', 'news', 'and', 'analyze', 'the', 'stories', 'behind', 'the', 'events', '.', 'here', ',', 'soledad', \"o'brien\", 'takes', 'users', 'inside', 'a', 'jail', 'where', 'many', 'of', 'the', 'inmates', 'are', 'mentally', 'ill', '.', 'an', 'inmate', 'housed', 'on', 'the', '``', 'forgotten', 'floor', ',', \"''\", 'where', 'many', 'mentally', 'ill', 'inmates', 'are', 'housed', 'in', 'miami', 'before', 'trial', '.', 'miami', ',', 'florida', '-lrb-', 'cnn', '-rrb-', '--', 'the', 'ninth', 'floor', 'of', 'the', 'miami-dade', 'pretrial', 'detention', 'facility', 'is', 'dubbed', 'the', '``', 'forgotten', 'floor', '.', \"''\", 'here', ',', 'inmates', 'with', 'the', 'most', 'severe', 'mental', 'illnesses', 'are', 'incarcerated', 'until', 'they', \"'re\", 'ready', 'to', 'appear', 'in', 'court', '.', 'most', 'often', ',', 'they', 'face', 'drug', 'charges', 'or', 'charges', 'of', 'assaulting', 'an', 'officer', '--', 'charges', 'that', 'judge', 'steven', 'leifman', 'says', 'are', 'usually', '``', 'avoidable', 'felonies', '.', \"''\", 'he', 'says', 'the', 'arrests', 'often', 'result', 'from', 'confrontations', 'with', 'police', '.', 'mentally', 'ill', 'people', 'often', 'wo', \"n't\", 'do', 'what', 'they', \"'re\", 'told', 'when', 'police', 'arrive', 'on', 'the', 'scene', '--', 'confrontation', 'seems', 'to', 'exacerbate', 'their', 'illness', 'and', 'they', 'become', 'more', 'paranoid', ',', 'delusional', ',', 'and', 'less', 'likely', 'to', 'follow', 'directions', ',', 'according', 'to', 'leifman', '.', 'so', ',', 'they', 'end', 'up', 'on', 'the', 'ninth', 'floor', 'severely', 'mentally', 'disturbed', ',', 'but', 'not', 'getting', 'any', 'real', 'help', 'because', 'they', \"'re\", 'in', 'jail', '.', 'we', 'toured', 'the', 'jail', 'with', 'leifman', '.', 'he', 'is', 'well', 'known', 'in', 'miami', 'as', 'an', 'advocate', 'for', 'justice', 'and', 'the', 'mentally', 'ill', '.', 'even', 'though', 'we', 'were', 'not', 'exactly', 'welcomed', 'with', 'open', 'arms', 'by', 'the', 'guards', ',', 'we', 'were', 'given', 'permission', 'to', 'shoot', 'videotape', 'and', 'tour', 'the', 'floor', '.', 'go', 'inside', 'the', '`', 'forgotten', 'floor', \"'\", \"''\", 'at', 'first', ',', 'it', \"'s\", 'hard', 'to', 'determine', 'where', 'the', 'people', 'are', '.', 'the', 'prisoners', 'are', 'wearing', 'sleeveless', 'robes', '.', 'imagine', 'cutting', 'holes', 'for', 'arms', 'and', 'feet', 'in', 'a', 'heavy', 'wool', 'sleeping', 'bag', '--', 'that', \"'s\", 'kind', 'of', 'what', 'they', 'look', 'like', '.', 'they', \"'re\", 'designed', 'to', 'keep', 'the', 'mentally', 'ill', 'patients', 'from', 'injuring', 'themselves', '.', 'that', \"'s\", 'also', 'why', 'they', 'have', 'no', 'shoes', ',', 'laces', 'or', 'mattresses', '.', 'leifman', 'says', 'about', 'one-third', 'of', 'all', 'people', 'in', 'miami-dade', 'county', 'jails', 'are', 'mentally', 'ill', '.', 'so', ',', 'he', 'says', ',', 'the', 'sheer', 'volume', 'is', 'overwhelming', 'the', 'system', ',', 'and', 'the', 'result', 'is', 'what', 'we', 'see', 'on', 'the', 'ninth', 'floor', '.', 'of', 'course', ',', 'it', 'is', 'a', 'jail', ',', 'so', 'it', \"'s\", 'not', 'supposed', 'to', 'be', 'warm', 'and', '<eos>']\n",
            "['mentally', 'ill', 'inmates', 'in', 'miami', 'are', 'housed', 'on', 'the', '``', 'forgotten', 'floor', \"''\", 'judge', 'steven', 'leifman', 'says', 'most', 'are', 'there', 'as', 'a', 'result', 'of', '``', 'avoidable', 'felonies', \"''\", 'while', 'cnn', 'tours', 'facility', ',', 'patient', 'shouts', ':', '``', 'i', 'am', 'the', 'son', 'of', 'the', 'president', \"''\", 'leifman', 'says', 'the', 'system', 'is', 'unjust', 'and', 'he', \"'s\", 'fighting', 'for', 'change', '.', '<eos>']\n"
          ],
          "name": "stdout"
        }
      ]
    },
    {
      "cell_type": "code",
      "metadata": {
        "id": "U4vK40SfWrBd",
        "colab_type": "code",
        "colab": {}
      },
      "source": [
        "test_model = TransformerSummarizer(max_seq_len=10, ntoken=vocab, emb_size=300, nhead=6, nhid=2048, nlayers=6)\n"
      ],
      "execution_count": 0,
      "outputs": []
    },
    {
      "cell_type": "code",
      "metadata": {
        "id": "HUcKRnejWsv5",
        "colab_type": "code",
        "colab": {}
      },
      "source": [
        ""
      ],
      "execution_count": 0,
      "outputs": []
    },
    {
      "cell_type": "code",
      "metadata": {
        "id": "Q5XGGyytmxvM",
        "colab_type": "code",
        "colab": {}
      },
      "source": [
        ""
      ],
      "execution_count": 0,
      "outputs": []
    },
    {
      "cell_type": "code",
      "metadata": {
        "id": "3cyoAus-sSQ9",
        "colab_type": "code",
        "colab": {}
      },
      "source": [
        ""
      ],
      "execution_count": 0,
      "outputs": []
    },
    {
      "cell_type": "code",
      "metadata": {
        "id": "KE-I476hsSac",
        "colab_type": "code",
        "colab": {}
      },
      "source": [
        ""
      ],
      "execution_count": 0,
      "outputs": []
    },
    {
      "cell_type": "code",
      "metadata": {
        "id": "8aPemcmXsSXS",
        "colab_type": "code",
        "outputId": "e0a99d5e-c2fd-41fb-c504-b6f9263c4316",
        "colab": {
          "base_uri": "https://localhost:8080/",
          "height": 74
        }
      },
      "source": [
        "train_line = train_1000_df[\"text\"][0]\n",
        "print(train_line)\n",
        "vocab = len(set(train_line))\n",
        "\n",
        "test_line = train_1000_df[\"summ\"][0]\n",
        "print(test_line)\n",
        "# vocab = len(set(test_line))\n",
        "\n"
      ],
      "execution_count": 0,
      "outputs": [
        {
          "output_type": "stream",
          "text": [
            "editor 's note : in our behind the scenes series , cnn correspondents share their experiences in covering news and analyze the stories behind the events . here , soledad o'brien takes users inside a jail where many of the inmates are mentally ill . an inmate housed on the `` forgotten floor , '' where many mentally ill inmates are housed in miami before trial . miami , florida -lrb- cnn -rrb- -- the ninth floor of the miami-dade pretrial detention facility is dubbed the `` forgotten floor . '' here , inmates with the most severe mental illnesses are incarcerated until they 're ready to appear in court . most often , they face drug charges or charges of assaulting an officer -- charges that judge steven leifman says are usually `` avoidable felonies . '' he says the arrests often result from confrontations with police . mentally ill people often wo n't do what they 're told when police arrive on the scene -- confrontation seems to exacerbate their illness and they become more paranoid , delusional , and less likely to follow directions , according to leifman . so , they end up on the ninth floor severely mentally disturbed , but not getting any real help because they 're in jail . we toured the jail with leifman . he is well known in miami as an advocate for justice and the mentally ill . even though we were not exactly welcomed with open arms by the guards , we were given permission to shoot videotape and tour the floor . go inside the ` forgotten floor ' '' at first , it 's hard to determine where the people are . the prisoners are wearing sleeveless robes . imagine cutting holes for arms and feet in a heavy wool sleeping bag -- that 's kind of what they look like . they 're designed to keep the mentally ill patients from injuring themselves . that 's also why they have no shoes , laces or mattresses . leifman says about one-third of all people in miami-dade county jails are mentally ill . so , he says , the sheer volume is overwhelming the system , and the result is what we see on the ninth floor . of course , it is a jail , so it 's not supposed to be warm and comforting , but the lights glare , the cells are tiny and it 's loud . we see two , sometimes three men -- sometimes in the robes , sometimes naked , lying or sitting in their cells . `` i am the son of the president . you need to get me out of here ! '' one man shouts at me . he is absolutely serious , convinced that help is on the way -- if only he could reach the white house . leifman tells me that these prisoner-patients will often circulate through the system , occasionally stabilizing in a mental hospital , only to return to jail to face their charges . it 's brutally unjust , in his mind , and he has become a strong advocate for changing things in miami . over a meal later , we talk about how things got this way for mental patients . leifman says 200 years ago people were considered `` lunatics '' and they were locked up in jails even if they had no charges against them . they were just considered unfit to be in society . over the years , he says , there was some public outcry , and the mentally ill were moved out of jails and into hospitals . but leifman says many of these mental hospitals were so horrible they were shut down . where did the patients go ? nowhere . the streets . they became , in many cases , the homeless , he says . they never got treatment . leifman says in 1955 there were more than half a million people in state mental hospitals , and today that number has been reduced 90 percent , and 40,000 to 50,000 people are in mental hospitals . the judge says he 's working to change this . starting in 2008 , many inmates who would otherwise have been brought to the `` forgotten floor '' will instead be sent to a new mental health facility -- the first step on a journey toward long-term treatment , not just punishment . leifman says it 's not the complete answer , but it 's a start . leifman says the best part is that it 's a win-win solution . the patients win , the families are relieved , and the state saves money by simply not cycling these prisoners through again and again . and , for leifman , justice is served . e-mail to a friend .\n",
            "[\" mentally ill inmates in miami are housed on the `` forgotten floor '' \", \" judge steven leifman says most are there as a result of `` avoidable felonies '' \", \" while cnn tours facility , patient shouts : `` i am the son of the president '' \", \" leifman says the system is unjust and he 's fighting for change . \"]\n"
          ],
          "name": "stdout"
        }
      ]
    },
    {
      "cell_type": "code",
      "metadata": {
        "id": "79V6ZpPHmxzt",
        "colab_type": "code",
        "colab": {}
      },
      "source": [
        "# device = torch.device(\"cuda\" if torch.cuda.is_available() else \"cpu\")\n",
        "device = \"cpu\"\n",
        "t5_type = \"t5-small\""
      ],
      "execution_count": 0,
      "outputs": []
    },
    {
      "cell_type": "code",
      "metadata": {
        "id": "5sylVdNtl8-s",
        "colab_type": "code",
        "outputId": "353f8ff0-78a5-446d-ff0e-13eb056dfff0",
        "colab": {
          "base_uri": "https://localhost:8080/",
          "height": 459
        }
      },
      "source": [
        "import sys\n",
        "!{sys.executable} -m pip install transformers\n",
        "\n",
        "from transformers import T5ForConditionalGeneration, T5Tokenizer   "
      ],
      "execution_count": 0,
      "outputs": [
        {
          "output_type": "stream",
          "text": [
            "Requirement already satisfied: transformers in /usr/local/lib/python3.6/dist-packages (2.8.0)\n",
            "Requirement already satisfied: tqdm>=4.27 in /usr/local/lib/python3.6/dist-packages (from transformers) (4.38.0)\n",
            "Requirement already satisfied: regex!=2019.12.17 in /usr/local/lib/python3.6/dist-packages (from transformers) (2019.12.20)\n",
            "Requirement already satisfied: boto3 in /usr/local/lib/python3.6/dist-packages (from transformers) (1.13.1)\n",
            "Requirement already satisfied: numpy in /usr/local/lib/python3.6/dist-packages (from transformers) (1.18.3)\n",
            "Requirement already satisfied: tokenizers==0.5.2 in /usr/local/lib/python3.6/dist-packages (from transformers) (0.5.2)\n",
            "Requirement already satisfied: sentencepiece in /usr/local/lib/python3.6/dist-packages (from transformers) (0.1.86)\n",
            "Requirement already satisfied: filelock in /usr/local/lib/python3.6/dist-packages (from transformers) (3.0.12)\n",
            "Requirement already satisfied: dataclasses; python_version < \"3.7\" in /usr/local/lib/python3.6/dist-packages (from transformers) (0.7)\n",
            "Requirement already satisfied: sacremoses in /usr/local/lib/python3.6/dist-packages (from transformers) (0.0.43)\n",
            "Requirement already satisfied: requests in /usr/local/lib/python3.6/dist-packages (from transformers) (2.23.0)\n",
            "Requirement already satisfied: s3transfer<0.4.0,>=0.3.0 in /usr/local/lib/python3.6/dist-packages (from boto3->transformers) (0.3.3)\n",
            "Requirement already satisfied: jmespath<1.0.0,>=0.7.1 in /usr/local/lib/python3.6/dist-packages (from boto3->transformers) (0.9.5)\n",
            "Requirement already satisfied: botocore<1.17.0,>=1.16.1 in /usr/local/lib/python3.6/dist-packages (from boto3->transformers) (1.16.1)\n",
            "Requirement already satisfied: six in /usr/local/lib/python3.6/dist-packages (from sacremoses->transformers) (1.12.0)\n",
            "Requirement already satisfied: joblib in /usr/local/lib/python3.6/dist-packages (from sacremoses->transformers) (0.14.1)\n",
            "Requirement already satisfied: click in /usr/local/lib/python3.6/dist-packages (from sacremoses->transformers) (7.1.2)\n",
            "Requirement already satisfied: urllib3!=1.25.0,!=1.25.1,<1.26,>=1.21.1 in /usr/local/lib/python3.6/dist-packages (from requests->transformers) (1.24.3)\n",
            "Requirement already satisfied: certifi>=2017.4.17 in /usr/local/lib/python3.6/dist-packages (from requests->transformers) (2020.4.5.1)\n",
            "Requirement already satisfied: idna<3,>=2.5 in /usr/local/lib/python3.6/dist-packages (from requests->transformers) (2.9)\n",
            "Requirement already satisfied: chardet<4,>=3.0.2 in /usr/local/lib/python3.6/dist-packages (from requests->transformers) (3.0.4)\n",
            "Requirement already satisfied: docutils<0.16,>=0.10 in /usr/local/lib/python3.6/dist-packages (from botocore<1.17.0,>=1.16.1->boto3->transformers) (0.15.2)\n",
            "Requirement already satisfied: python-dateutil<3.0.0,>=2.1 in /usr/local/lib/python3.6/dist-packages (from botocore<1.17.0,>=1.16.1->boto3->transformers) (2.8.1)\n"
          ],
          "name": "stdout"
        }
      ]
    },
    {
      "cell_type": "code",
      "metadata": {
        "id": "7dJVi5lgl9DW",
        "colab_type": "code",
        "outputId": "3c7b2e37-274f-43a6-f7df-0b227086eac2",
        "colab": {
          "base_uri": "https://localhost:8080/",
          "height": 118,
          "referenced_widgets": [
            "994360f7e8e747818afc6e74854a7534",
            "063ed12a3bc9473ca479ae23dea5f0c4",
            "45eff2cde4304c2a96c644f693ac2260",
            "cad0e259584b4835a5163d9e968a93f3",
            "e9d3c3eda83c42ad9f111c293195cb67",
            "4d6a5e778cc8457d9b01106aa3939671",
            "736cd478bc494deba6b3587c372cfbc8",
            "1692298a981e4f1d890f369e0710a8a2",
            "302a4f45a5e24e4aabb29018c9d3fba5",
            "afbaef3f7d9143f7b99124240ee7109e",
            "31cfccdeac0249d1acd44b8172a5e8ff",
            "140c9c2e4cea4803a8f417f0d7af54be",
            "0f7024cf20194c68b6de0dc9b6ddf485",
            "0432efa6a52b46088c8f7539748b52f1",
            "538320c541a547988b1e7f237bb2462a",
            "76dabaffe1c04aa1ac7baecdf17cc68a"
          ]
        }
      },
      "source": [
        "t5model = T5ForConditionalGeneration.from_pretrained(t5_type)"
      ],
      "execution_count": 0,
      "outputs": [
        {
          "output_type": "display_data",
          "data": {
            "application/vnd.jupyter.widget-view+json": {
              "model_id": "994360f7e8e747818afc6e74854a7534",
              "version_minor": 0,
              "version_major": 2
            },
            "text/plain": [
              "HBox(children=(IntProgress(value=0, description='Downloading', max=1197, style=ProgressStyle(description_width…"
            ]
          },
          "metadata": {
            "tags": []
          }
        },
        {
          "output_type": "stream",
          "text": [
            "\n"
          ],
          "name": "stdout"
        },
        {
          "output_type": "display_data",
          "data": {
            "application/vnd.jupyter.widget-view+json": {
              "model_id": "302a4f45a5e24e4aabb29018c9d3fba5",
              "version_minor": 0,
              "version_major": 2
            },
            "text/plain": [
              "HBox(children=(IntProgress(value=0, description='Downloading', max=242136741, style=ProgressStyle(description_…"
            ]
          },
          "metadata": {
            "tags": []
          }
        },
        {
          "output_type": "stream",
          "text": [
            "\n"
          ],
          "name": "stdout"
        }
      ]
    },
    {
      "cell_type": "code",
      "metadata": {
        "id": "KlECfaEymeKp",
        "colab_type": "code",
        "colab": {}
      },
      "source": [
        ""
      ],
      "execution_count": 0,
      "outputs": []
    },
    {
      "cell_type": "code",
      "metadata": {
        "id": "f-S47Q2XmvLF",
        "colab_type": "code",
        "colab": {}
      },
      "source": [
        "tokenizer = T5Tokenizer.from_pretrained(t5_type)"
      ],
      "execution_count": 0,
      "outputs": []
    },
    {
      "cell_type": "code",
      "metadata": {
        "id": "CpHzmW9gm6ts",
        "colab_type": "code",
        "colab": {}
      },
      "source": [
        "parameters = t5model.config.task_specific_params\n",
        "if parameters is not None:\n",
        "    t5model.config.update(parameters.get(\"summarization\", {}))\n",
        "\n",
        "for batch in [train_line]:\n",
        "    batch = [t5model.config.prefix + text for text in batch]\n",
        "\n",
        "    dct = tokenizer.batch_encode_plus(batch, max_length=512, return_tensors=\"pt\", pad_to_max_length=True)\n",
        "    input_ids = dct[\"input_ids\"]#.to(device)\n",
        "    attention_mask = dct[\"attention_mask\"]#.to(device)\n",
        "\n",
        "    summaries = t5model.generate(input_ids=input_ids, attention_mask=attention_mask)\n",
        "    dec = [tokenizer.decode(g, skip_special_tokens=True, clean_up_tokenization_spaces=False) for g in summaries]\n"
      ],
      "execution_count": 0,
      "outputs": []
    },
    {
      "cell_type": "code",
      "metadata": {
        "id": "C9l0kZyLpT7y",
        "colab_type": "code",
        "colab": {}
      },
      "source": [
        "dec"
      ],
      "execution_count": 0,
      "outputs": []
    },
    {
      "cell_type": "code",
      "metadata": {
        "id": "rD8U7O5Jp7P8",
        "colab_type": "code",
        "colab": {}
      },
      "source": [
        ""
      ],
      "execution_count": 0,
      "outputs": []
    },
    {
      "cell_type": "code",
      "metadata": {
        "id": "QvYlxgo6sBPY",
        "colab_type": "code",
        "colab": {}
      },
      "source": [
        "from transformers import BartTokenizer, BartForConditionalGeneration, BartConfig\n",
        "model = BartForConditionalGeneration.from_pretrained('bart-large-cnn')\n",
        "tokenizer = BartTokenizer.from_pretrained('bart-large')\n"
      ],
      "execution_count": 0,
      "outputs": []
    },
    {
      "cell_type": "code",
      "metadata": {
        "id": "XXWWW5nbsBS7",
        "colab_type": "code",
        "outputId": "f4a4e5c1-89a8-4dc4-f085-97a41d58cfd1",
        "colab": {
          "base_uri": "https://localhost:8080/",
          "height": 55
        }
      },
      "source": [
        "print(train_line)\n",
        "ARTICLE_TO_SUMMARIZE = PreProcess(train_line)\n",
        "inputs = tokenizer.batch_encode_plus([ARTICLE_TO_SUMMARIZE], max_length=1024, return_tensors='pt', pad_to_max_length=True)\n",
        "\n",
        "max_length = 100\n",
        "min_length = 50\n",
        "\n",
        "summaries = model.generate(input_ids=inputs['input_ids'], \n",
        "                            attention_mask=inputs[\"attention_mask\"], \n",
        "                            num_beams=8, \n",
        "                            max_length=max_length + 2,  \n",
        "                            min_length=min_length + 1, \n",
        "                            no_repeat_ngram_size=3,\n",
        "                            early_stopping=True,\n",
        "                            decoder_start_token_id=model.config.eos_token_id)\n",
        "\n",
        "outputs = [tokenizer.decode(g, skip_special_tokens=True, clean_up_tokenization_spaces=False) for g in summaries]"
      ],
      "execution_count": 0,
      "outputs": [
        {
          "output_type": "stream",
          "text": [
            "editor 's note : in our behind the scenes series , cnn correspondents share their experiences in covering news and analyze the stories behind the events . here , soledad o'brien takes users inside a jail where many of the inmates are mentally ill . an inmate housed on the `` forgotten floor , '' where many mentally ill inmates are housed in miami before trial . miami , florida -lrb- cnn -rrb- -- the ninth floor of the miami-dade pretrial detention facility is dubbed the `` forgotten floor . '' here , inmates with the most severe mental illnesses are incarcerated until they 're ready to appear in court . most often , they face drug charges or charges of assaulting an officer -- charges that judge steven leifman says are usually `` avoidable felonies . '' he says the arrests often result from confrontations with police . mentally ill people often wo n't do what they 're told when police arrive on the scene -- confrontation seems to exacerbate their illness and they become more paranoid , delusional , and less likely to follow directions , according to leifman . so , they end up on the ninth floor severely mentally disturbed , but not getting any real help because they 're in jail . we toured the jail with leifman . he is well known in miami as an advocate for justice and the mentally ill . even though we were not exactly welcomed with open arms by the guards , we were given permission to shoot videotape and tour the floor . go inside the ` forgotten floor ' '' at first , it 's hard to determine where the people are . the prisoners are wearing sleeveless robes . imagine cutting holes for arms and feet in a heavy wool sleeping bag -- that 's kind of what they look like . they 're designed to keep the mentally ill patients from injuring themselves . that 's also why they have no shoes , laces or mattresses . leifman says about one-third of all people in miami-dade county jails are mentally ill . so , he says , the sheer volume is overwhelming the system , and the result is what we see on the ninth floor . of course , it is a jail , so it 's not supposed to be warm and comforting , but the lights glare , the cells are tiny and it 's loud . we see two , sometimes three men -- sometimes in the robes , sometimes naked , lying or sitting in their cells . `` i am the son of the president . you need to get me out of here ! '' one man shouts at me . he is absolutely serious , convinced that help is on the way -- if only he could reach the white house . leifman tells me that these prisoner-patients will often circulate through the system , occasionally stabilizing in a mental hospital , only to return to jail to face their charges . it 's brutally unjust , in his mind , and he has become a strong advocate for changing things in miami . over a meal later , we talk about how things got this way for mental patients . leifman says 200 years ago people were considered `` lunatics '' and they were locked up in jails even if they had no charges against them . they were just considered unfit to be in society . over the years , he says , there was some public outcry , and the mentally ill were moved out of jails and into hospitals . but leifman says many of these mental hospitals were so horrible they were shut down . where did the patients go ? nowhere . the streets . they became , in many cases , the homeless , he says . they never got treatment . leifman says in 1955 there were more than half a million people in state mental hospitals , and today that number has been reduced 90 percent , and 40,000 to 50,000 people are in mental hospitals . the judge says he 's working to change this . starting in 2008 , many inmates who would otherwise have been brought to the `` forgotten floor '' will instead be sent to a new mental health facility -- the first step on a journey toward long-term treatment , not just punishment . leifman says it 's not the complete answer , but it 's a start . leifman says the best part is that it 's a win-win solution . the patients win , the families are relieved , and the state saves money by simply not cycling these prisoners through again and again . and , for leifman , justice is served . e-mail to a friend .\n"
          ],
          "name": "stdout"
        }
      ]
    },
    {
      "cell_type": "code",
      "metadata": {
        "id": "huzWThwctAu-",
        "colab_type": "code",
        "outputId": "e5a2b668-fa85-4e05-ead6-ccfeb99bdf90",
        "colab": {
          "base_uri": "https://localhost:8080/",
          "height": 55
        }
      },
      "source": [
        "for output in outputs:\n",
        "  print(output)"
      ],
      "execution_count": 0,
      "outputs": [
        {
          "output_type": "stream",
          "text": [
            "Nineth floor miamidade pretrial detention facility dubbed forgotten floor here inmate most severe mental illness incarcerated until they re ready appear court most often they face drug charge charge assaulting officer charge judge steven leifman say usually avoidable felony he say arrest often result confrontation police mentally ill people often wo nt do they re told police arrive scene confrontation seems exacerbate their illness and they become more paranoid delusional.\n"
          ],
          "name": "stdout"
        }
      ]
    },
    {
      "cell_type": "code",
      "metadata": {
        "id": "DYKy5fWHtf0e",
        "colab_type": "code",
        "colab": {}
      },
      "source": [
        ""
      ],
      "execution_count": 0,
      "outputs": []
    }
  ]
}